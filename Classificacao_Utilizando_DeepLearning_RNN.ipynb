{
  "nbformat": 4,
  "nbformat_minor": 0,
  "metadata": {
    "colab": {
      "provenance": []
    },
    "kernelspec": {
      "name": "python3",
      "display_name": "Python 3"
    },
    "language_info": {
      "name": "python"
    },
    "accelerator": "GPU",
    "gpuClass": "standard"
  },
  "cells": [
    {
      "cell_type": "markdown",
      "source": [
        "**Este notebook tem o objetivo de apresentar uma forma de realizar classificação textual utilizando redes neurais recorrentes (RNN).**\n",
        "\n",
        "Uma rede neural recorrente (RNN) é uma classe de redes neurais que inclui conexões ponderadas dentro de uma camada (em comparação com as redes de feed-forward tradicionais, onde conecta alimentação apenas para camadas subsequentes). Como as RNNs incluem loops, elas podem armazenar informações ao processar novas entradas. Essa memória os torna ideais para tarefas de processamento onde as entradas anteriores devem ser consideradas (como dados da série temporal).\n",
        "\n",
        "\n",
        "![](data:image/jpeg;base64,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)\n",
        "\n",
        "\n"
      ],
      "metadata": {
        "id": "HHIeAw6ANY-2"
      }
    },
    {
      "cell_type": "markdown",
      "source": [
        "\n",
        "Devido a essa característica de tratar sequências, as RNN se tornam uma ótima opção para tarefas de NLP como tradução, geração de texto ou reconhecimento de fala. \n",
        "\n",
        "Outro ponto a ser destacado é a evolução das redes RNN para a utilização de células LSTM (Long-short Term Memory) e posteriormente de células GRU ( Gated Recorrent Unit), consideradas um dos principais motivos para o sucesso das RNN.\n",
        "\n",
        "\n",
        "Este experimento foi baseado em https://medium.com/voice-tech-podcast/text-classification-using-cnn-9ade8155dfb9 ."
      ],
      "metadata": {
        "id": "JUYlG6doc3Nn"
      }
    },
    {
      "cell_type": "code",
      "source": [
        "# Importação das bibliotecas\n",
        "\n",
        "from numpy import array\n",
        "from numpy import asarray\n",
        "from numpy import zeros\n",
        "from keras.preprocessing.text import one_hot\n",
        "from keras_preprocessing.sequence import pad_sequences\n",
        "from keras.preprocessing.text import Tokenizer\n",
        "from keras.models import Sequential\n",
        "from keras.layers import Dense\n",
        "from keras.layers import Flatten\n",
        "from keras.layers import Embedding"
      ],
      "metadata": {
        "id": "KGicclUIj0hq"
      },
      "execution_count": null,
      "outputs": []
    },
    {
      "cell_type": "code",
      "source": [
        "import pandas as pd\n",
        "\n",
        "df = pd.read_csv('/content/drive/MyDrive/TopicosNLP-02_2022/Notebooks/Transformes/imdb-reviews-pt-br.csv.zip')"
      ],
      "metadata": {
        "id": "iSZ7n-CdXQJT"
      },
      "execution_count": null,
      "outputs": []
    },
    {
      "cell_type": "code",
      "source": [
        "df_pos=df[df.sentiment=='pos'].sample(5000, random_state=42)\n",
        "df_neg=df[df.sentiment=='neg'].sample(5000, random_state=42)\n",
        "df=pd.concat([df_pos,df_neg], ignore_index=True)\n",
        "df.head()"
      ],
      "metadata": {
        "id": "gtvwHJ1wIMPK",
        "colab": {
          "base_uri": "https://localhost:8080/",
          "height": 206
        },
        "outputId": "881e1f38-6e0e-43d7-bdba-573c6cd53ccd"
      },
      "execution_count": null,
      "outputs": [
        {
          "output_type": "execute_result",
          "data": {
            "text/plain": [
              "      id                                            text_en  \\\n",
              "0  38397  This is a very funny movie! I have no idea whe...   \n",
              "1  38493  I have just watched the whole 6 episodes on DV...   \n",
              "2  44531  The material in this documentary is so powerfu...   \n",
              "3  40425  Only once in a while do we get an R-rated come...   \n",
              "4  47654  Not sure if this counts as a spoiler or not, s...   \n",
              "\n",
              "                                             text_pt sentiment  \n",
              "0  Este é um filme muito engraçado! Eu não tenho ...       pos  \n",
              "1  Acabei de assistir a todos os 6 episódios em D...       pos  \n",
              "2  O material deste documentário é tão poderoso q...       pos  \n",
              "3  Apenas de vez em quando recebemos uma comédia ...       pos  \n",
              "4  Não tenho certeza se isso conta como um spoile...       pos  "
            ],
            "text/html": [
              "\n",
              "  <div id=\"df-84181265-35d7-459d-b00f-18bcb14340b1\">\n",
              "    <div class=\"colab-df-container\">\n",
              "      <div>\n",
              "<style scoped>\n",
              "    .dataframe tbody tr th:only-of-type {\n",
              "        vertical-align: middle;\n",
              "    }\n",
              "\n",
              "    .dataframe tbody tr th {\n",
              "        vertical-align: top;\n",
              "    }\n",
              "\n",
              "    .dataframe thead th {\n",
              "        text-align: right;\n",
              "    }\n",
              "</style>\n",
              "<table border=\"1\" class=\"dataframe\">\n",
              "  <thead>\n",
              "    <tr style=\"text-align: right;\">\n",
              "      <th></th>\n",
              "      <th>id</th>\n",
              "      <th>text_en</th>\n",
              "      <th>text_pt</th>\n",
              "      <th>sentiment</th>\n",
              "    </tr>\n",
              "  </thead>\n",
              "  <tbody>\n",
              "    <tr>\n",
              "      <th>0</th>\n",
              "      <td>38397</td>\n",
              "      <td>This is a very funny movie! I have no idea whe...</td>\n",
              "      <td>Este é um filme muito engraçado! Eu não tenho ...</td>\n",
              "      <td>pos</td>\n",
              "    </tr>\n",
              "    <tr>\n",
              "      <th>1</th>\n",
              "      <td>38493</td>\n",
              "      <td>I have just watched the whole 6 episodes on DV...</td>\n",
              "      <td>Acabei de assistir a todos os 6 episódios em D...</td>\n",
              "      <td>pos</td>\n",
              "    </tr>\n",
              "    <tr>\n",
              "      <th>2</th>\n",
              "      <td>44531</td>\n",
              "      <td>The material in this documentary is so powerfu...</td>\n",
              "      <td>O material deste documentário é tão poderoso q...</td>\n",
              "      <td>pos</td>\n",
              "    </tr>\n",
              "    <tr>\n",
              "      <th>3</th>\n",
              "      <td>40425</td>\n",
              "      <td>Only once in a while do we get an R-rated come...</td>\n",
              "      <td>Apenas de vez em quando recebemos uma comédia ...</td>\n",
              "      <td>pos</td>\n",
              "    </tr>\n",
              "    <tr>\n",
              "      <th>4</th>\n",
              "      <td>47654</td>\n",
              "      <td>Not sure if this counts as a spoiler or not, s...</td>\n",
              "      <td>Não tenho certeza se isso conta como um spoile...</td>\n",
              "      <td>pos</td>\n",
              "    </tr>\n",
              "  </tbody>\n",
              "</table>\n",
              "</div>\n",
              "      <button class=\"colab-df-convert\" onclick=\"convertToInteractive('df-84181265-35d7-459d-b00f-18bcb14340b1')\"\n",
              "              title=\"Convert this dataframe to an interactive table.\"\n",
              "              style=\"display:none;\">\n",
              "        \n",
              "  <svg xmlns=\"http://www.w3.org/2000/svg\" height=\"24px\"viewBox=\"0 0 24 24\"\n",
              "       width=\"24px\">\n",
              "    <path d=\"M0 0h24v24H0V0z\" fill=\"none\"/>\n",
              "    <path d=\"M18.56 5.44l.94 2.06.94-2.06 2.06-.94-2.06-.94-.94-2.06-.94 2.06-2.06.94zm-11 1L8.5 8.5l.94-2.06 2.06-.94-2.06-.94L8.5 2.5l-.94 2.06-2.06.94zm10 10l.94 2.06.94-2.06 2.06-.94-2.06-.94-.94-2.06-.94 2.06-2.06.94z\"/><path d=\"M17.41 7.96l-1.37-1.37c-.4-.4-.92-.59-1.43-.59-.52 0-1.04.2-1.43.59L10.3 9.45l-7.72 7.72c-.78.78-.78 2.05 0 2.83L4 21.41c.39.39.9.59 1.41.59.51 0 1.02-.2 1.41-.59l7.78-7.78 2.81-2.81c.8-.78.8-2.07 0-2.86zM5.41 20L4 18.59l7.72-7.72 1.47 1.35L5.41 20z\"/>\n",
              "  </svg>\n",
              "      </button>\n",
              "      \n",
              "  <style>\n",
              "    .colab-df-container {\n",
              "      display:flex;\n",
              "      flex-wrap:wrap;\n",
              "      gap: 12px;\n",
              "    }\n",
              "\n",
              "    .colab-df-convert {\n",
              "      background-color: #E8F0FE;\n",
              "      border: none;\n",
              "      border-radius: 50%;\n",
              "      cursor: pointer;\n",
              "      display: none;\n",
              "      fill: #1967D2;\n",
              "      height: 32px;\n",
              "      padding: 0 0 0 0;\n",
              "      width: 32px;\n",
              "    }\n",
              "\n",
              "    .colab-df-convert:hover {\n",
              "      background-color: #E2EBFA;\n",
              "      box-shadow: 0px 1px 2px rgba(60, 64, 67, 0.3), 0px 1px 3px 1px rgba(60, 64, 67, 0.15);\n",
              "      fill: #174EA6;\n",
              "    }\n",
              "\n",
              "    [theme=dark] .colab-df-convert {\n",
              "      background-color: #3B4455;\n",
              "      fill: #D2E3FC;\n",
              "    }\n",
              "\n",
              "    [theme=dark] .colab-df-convert:hover {\n",
              "      background-color: #434B5C;\n",
              "      box-shadow: 0px 1px 3px 1px rgba(0, 0, 0, 0.15);\n",
              "      filter: drop-shadow(0px 1px 2px rgba(0, 0, 0, 0.3));\n",
              "      fill: #FFFFFF;\n",
              "    }\n",
              "  </style>\n",
              "\n",
              "      <script>\n",
              "        const buttonEl =\n",
              "          document.querySelector('#df-84181265-35d7-459d-b00f-18bcb14340b1 button.colab-df-convert');\n",
              "        buttonEl.style.display =\n",
              "          google.colab.kernel.accessAllowed ? 'block' : 'none';\n",
              "\n",
              "        async function convertToInteractive(key) {\n",
              "          const element = document.querySelector('#df-84181265-35d7-459d-b00f-18bcb14340b1');\n",
              "          const dataTable =\n",
              "            await google.colab.kernel.invokeFunction('convertToInteractive',\n",
              "                                                     [key], {});\n",
              "          if (!dataTable) return;\n",
              "\n",
              "          const docLinkHtml = 'Like what you see? Visit the ' +\n",
              "            '<a target=\"_blank\" href=https://colab.research.google.com/notebooks/data_table.ipynb>data table notebook</a>'\n",
              "            + ' to learn more about interactive tables.';\n",
              "          element.innerHTML = '';\n",
              "          dataTable['output_type'] = 'display_data';\n",
              "          await google.colab.output.renderOutput(dataTable, element);\n",
              "          const docLink = document.createElement('div');\n",
              "          docLink.innerHTML = docLinkHtml;\n",
              "          element.appendChild(docLink);\n",
              "        }\n",
              "      </script>\n",
              "    </div>\n",
              "  </div>\n",
              "  "
            ]
          },
          "metadata": {},
          "execution_count": 5
        }
      ]
    },
    {
      "cell_type": "code",
      "source": [
        "# Necessário replicar a descrição do sentimento para números inteiros\n",
        "sentiment_to_code = {'neg':0, 'pos':1}\n",
        "df.replace({'sentiment': sentiment_to_code}, inplace=True)"
      ],
      "metadata": {
        "id": "SVaSV4O-C_qO"
      },
      "execution_count": null,
      "outputs": []
    },
    {
      "cell_type": "code",
      "source": [
        "# Separando os dados em treinamento e teste\n",
        "from sklearn.model_selection import train_test_split\n",
        "\n",
        "X_train, X_test, y_train, y_test = train_test_split(df.text_pt,\n",
        "                                                    df.sentiment,\n",
        "                                                    test_size=0.2,\n",
        "                                                    stratify=df.sentiment,\n",
        "                                                    random_state=42)\n",
        "\n",
        "docs=X_train\n",
        "labels=y_train"
      ],
      "metadata": {
        "id": "HbPjr6CqE8ui"
      },
      "execution_count": null,
      "outputs": []
    },
    {
      "cell_type": "code",
      "source": [
        "# O primeiro passo do pré-processamento é sempre a decodificação dos tokens\n",
        "t = Tokenizer()\n",
        "t.fit_on_texts(docs)\n",
        "vocab_size = len(t.word_index) + 1"
      ],
      "metadata": {
        "id": "lJnkpiuCFN9T"
      },
      "execution_count": null,
      "outputs": []
    },
    {
      "cell_type": "code",
      "source": [
        "# A segunda etapa é o de padding, etapa que possibilita a redução da \n",
        "# dimensionalidade do modelo conforme necessidade\n",
        "\n",
        "encoded_docs = t.texts_to_sequences(docs)\n",
        "max_length = 300\n",
        "padded_docs = pad_sequences(encoded_docs, maxlen=max_length, padding='post')"
      ],
      "metadata": {
        "id": "a6mJ7rtrFad6"
      },
      "execution_count": null,
      "outputs": []
    },
    {
      "cell_type": "markdown",
      "source": [
        "## Usando uma rede recorrente (RNN) (fonte: https://towardsai.net/p/deep-learning/text-classification-with-rnn)"
      ],
      "metadata": {
        "id": "7xZlkTmtcz71"
      }
    },
    {
      "cell_type": "code",
      "source": [
        "from keras.layers import LSTM, SimpleRNN, GRU\n",
        "from keras.layers.convolutional import MaxPooling1D\n",
        "\n",
        "rnnmodel = Sequential()\n",
        "rnnmodel.add(Embedding(vocab_size, 50, input_length=max_length))\n",
        "rnnmodel.add(GRU(128, return_sequences=True))\n",
        "rnnmodel.add(GRU(128))\n",
        "rnnmodel.add(Dense(1, activation='sigmoid'))"
      ],
      "metadata": {
        "id": "7-U2Gu-4aw-V"
      },
      "execution_count": null,
      "outputs": []
    },
    {
      "cell_type": "code",
      "source": [
        "rnnmodel.compile(loss='binary_crossentropy', optimizer='adam', metrics=['accuracy'])\n",
        "rnnmodel.summary()"
      ],
      "metadata": {
        "id": "3psfQMUeeMUm",
        "colab": {
          "base_uri": "https://localhost:8080/"
        },
        "outputId": "1da19529-e828-4bcc-e611-5270d10bdccc"
      },
      "execution_count": null,
      "outputs": [
        {
          "output_type": "stream",
          "name": "stdout",
          "text": [
            "Model: \"sequential_2\"\n",
            "_________________________________________________________________\n",
            " Layer (type)                Output Shape              Param #   \n",
            "=================================================================\n",
            " embedding_1 (Embedding)     (None, 300, 50)           2998700   \n",
            "                                                                 \n",
            " gru_2 (GRU)                 (None, 300, 128)          69120     \n",
            "                                                                 \n",
            " gru_3 (GRU)                 (None, 128)               99072     \n",
            "                                                                 \n",
            " dense_1 (Dense)             (None, 1)                 129       \n",
            "                                                                 \n",
            "=================================================================\n",
            "Total params: 3,167,021\n",
            "Trainable params: 3,167,021\n",
            "Non-trainable params: 0\n",
            "_________________________________________________________________\n"
          ]
        }
      ]
    },
    {
      "cell_type": "code",
      "source": [
        "# fit the model\n",
        "rnnmodel.fit(padded_docs, labels, epochs=3, verbose=1)"
      ],
      "metadata": {
        "id": "Ef8Aa8L9eU-3",
        "colab": {
          "base_uri": "https://localhost:8080/"
        },
        "outputId": "a4b39bff-b9ac-4637-8df5-1946680f9267"
      },
      "execution_count": null,
      "outputs": [
        {
          "output_type": "stream",
          "name": "stdout",
          "text": [
            "Epoch 1/3\n",
            "250/250 [==============================] - 166s 652ms/step - loss: 0.6934 - accuracy: 0.5008\n",
            "Epoch 2/3\n",
            "250/250 [==============================] - 159s 637ms/step - loss: 0.6628 - accuracy: 0.5548\n",
            "Epoch 3/3\n",
            "250/250 [==============================] - 161s 646ms/step - loss: 0.5806 - accuracy: 0.5935\n"
          ]
        },
        {
          "output_type": "execute_result",
          "data": {
            "text/plain": [
              "<keras.callbacks.History at 0x7fd4c7981a50>"
            ]
          },
          "metadata": {},
          "execution_count": 18
        }
      ]
    },
    {
      "cell_type": "code",
      "source": [
        "encoded_docs_test = t.texts_to_sequences(X_test)\n",
        "max_length = 300\n",
        "padded_docs_test = pad_sequences(encoded_docs_test, maxlen=max_length, padding='post')\n",
        "\n",
        "loss, accuracy = rnnmodel.evaluate(padded_docs_test, y_test, verbose=0)\n",
        "print('Accuracy: %f' % (accuracy*100))"
      ],
      "metadata": {
        "id": "mO6wMv0iecNd",
        "colab": {
          "base_uri": "https://localhost:8080/"
        },
        "outputId": "b97d322a-e294-4333-bec6-019ec6748a77"
      },
      "execution_count": null,
      "outputs": [
        {
          "output_type": "stream",
          "name": "stdout",
          "text": [
            "Accuracy: 52.550000\n"
          ]
        }
      ]
    }
  ]
}