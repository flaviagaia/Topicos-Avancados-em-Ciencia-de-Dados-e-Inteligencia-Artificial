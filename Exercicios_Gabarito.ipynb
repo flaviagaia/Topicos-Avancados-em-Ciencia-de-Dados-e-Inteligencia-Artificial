{
  "nbformat": 4,
  "nbformat_minor": 0,
  "metadata": {
    "colab": {
      "provenance": []
    },
    "kernelspec": {
      "name": "python3",
      "display_name": "Python 3"
    },
    "language_info": {
      "name": "python"
    }
  },
  "cells": [
    {
      "cell_type": "markdown",
      "source": [
        "## Exercícios - Expressões Regulares\n",
        "\n",
        "Hora de praticar!!!\n",
        "\n",
        "Para cada exercício, apresente o código da função que execute a ação proposta e a execute para os exemplos listados. Vide exercício 1 para modelo."
      ],
      "metadata": {
        "id": "qmPmefhtgEud"
      }
    },
    {
      "cell_type": "code",
      "source": [
        "# importação das bibliotecas\n",
        "import re"
      ],
      "metadata": {
        "id": "MpHSdsl5h6U8"
      },
      "execution_count": null,
      "outputs": []
    },
    {
      "cell_type": "markdown",
      "source": [
        "### Exemplo) Detectar palavra de 5 letras que inicia com a letra `s`.\n",
        "\n",
        "* teste=['sábado', 'sexta', 'vassoura', 'astuto', 'Santo', 'santo']\n",
        "* saída= 'sexta', 'santo'\n"
      ],
      "metadata": {
        "id": "__m85CXsgovk"
      }
    },
    {
      "cell_type": "code",
      "source": [
        "teste=['sábado', 'sexta', 'vassoura', 'astuto', 'Santo', 'santo']\n",
        "regex='(^s\\w{4}$)'\n",
        "\n",
        "for item in teste:\n",
        "  if (re.search(regex, item)):\n",
        "    print(item)"
      ],
      "metadata": {
        "id": "EmqwXECOglzM",
        "colab": {
          "base_uri": "https://localhost:8080/"
        },
        "outputId": "5534331e-e014-43a5-cbe9-0c214af60710"
      },
      "execution_count": null,
      "outputs": [
        {
          "output_type": "stream",
          "name": "stdout",
          "text": [
            "sexta\n",
            "santo\n"
          ]
        }
      ]
    },
    {
      "cell_type": "code",
      "source": [
        "# funcao de teste\n",
        "def testar_exercicio(regex, teste):\n",
        "  for item in teste:\n",
        "    if (re.search(regex, item)):\n",
        "      print(re.search(regex, item).group())\n",
        "      "
      ],
      "metadata": {
        "id": "Re5d78IquTxV"
      },
      "execution_count": null,
      "outputs": []
    },
    {
      "cell_type": "markdown",
      "source": [
        "### **Q1)** Detectar Uma letra `a` imediatamente seguida por uma ou mais letras `e`.\n",
        "\n",
        "* teste=['ae', 'a', 'bae', 'aeeee', 'aeeeeeeeee', 'abeeee']\n",
        "* saída= 'ae', 'bae', 'aeeee', 'aeeeeeeeee'"
      ],
      "metadata": {
        "id": "X6xGh31AGIdO"
      }
    },
    {
      "cell_type": "code",
      "source": [
        "teste=['ae', 'a', 'bae', 'aeeee', 'aeeeeeeeee', 'abeeee']\n",
        "regex=r'ae+'\n",
        "\n",
        "for item in teste:\n",
        "  if(re.search(regex, item)):\n",
        "    print(item)"
      ],
      "metadata": {
        "id": "j7ateImgAhCz",
        "colab": {
          "base_uri": "https://localhost:8080/"
        },
        "outputId": "088b0848-a64f-4c77-9125-d61faee0a5a6"
      },
      "execution_count": null,
      "outputs": [
        {
          "output_type": "stream",
          "name": "stdout",
          "text": [
            "ae\n",
            "bae\n",
            "aeeee\n",
            "aeeeeeeeee\n"
          ]
        }
      ]
    },
    {
      "cell_type": "markdown",
      "source": [
        "### **Q2)** Detectar palavras de 6 a 15 letras, sem considerar caracteres especiais ou acentuação.\n",
        "\n",
        "* teste=['abraço', 'melodia', 'rotin', 'asa-delta', 'amigão', 'inconstitucionalissimamente']\n",
        "* saída= 'melodia'"
      ],
      "metadata": {
        "id": "UdY4xhtwImne"
      }
    },
    {
      "cell_type": "code",
      "source": [
        "teste=['abraço', 'melodia', 'rotin', 'asa-delta', 'amigão', 'inconstitucionalissimamente']\n",
        "regex=r'^[a-zA-Z]{6,15}\\Z'\n",
        "\n",
        "testar_exercicio(regex,teste)"
      ],
      "metadata": {
        "id": "mPA2yvbqBYpd",
        "colab": {
          "base_uri": "https://localhost:8080/"
        },
        "outputId": "f0cc4c4b-e2fe-4f52-e2ad-839623e23c69"
      },
      "execution_count": null,
      "outputs": [
        {
          "output_type": "stream",
          "name": "stdout",
          "text": [
            "melodia\n"
          ]
        }
      ]
    },
    {
      "cell_type": "markdown",
      "source": [
        "*obs. O caractere `\\Z` tem o mesmo comportamento do `$` e captura até o final da linha. Nesse caso teria o mesmo resultado de utilizar o \\b como final da string.*"
      ],
      "metadata": {
        "id": "GK0sHZv6___a"
      }
    },
    {
      "cell_type": "markdown",
      "source": [
        "### **Q3)** Detectar uma palavra com 8 a 10 letras que termine com a letra 'z'\n",
        "* teste=['chafariz','antes chafariz depois', 'gravidez', 'robustezjunto', 'antestalvezjunto', 'talvez']\n",
        "* saída= 'chafariz', 'chafariz', 'gravidez'"
      ],
      "metadata": {
        "id": "_XSM6VrRIy24"
      }
    },
    {
      "cell_type": "code",
      "source": [
        "teste=['chafariz','antes chafariz depois', 'gravidez', 'robustezjunto', 'antestalvezjunto', 'talvez']\n",
        "regex=r'\\w{7,9}z\\b'\n",
        "testar_exercicio(regex, teste)"
      ],
      "metadata": {
        "id": "v2CD08SyjSfM",
        "colab": {
          "base_uri": "https://localhost:8080/"
        },
        "outputId": "22f91255-4168-45a3-e10e-ee9ae3f0b125"
      },
      "execution_count": null,
      "outputs": [
        {
          "output_type": "stream",
          "name": "stdout",
          "text": [
            "chafariz\n",
            "chafariz\n",
            "gravidez\n"
          ]
        }
      ]
    },
    {
      "cell_type": "markdown",
      "source": [
        "### **Q4)** Detectar Um número inteiro com 2, 3 ou 4 dígitos, sendo que o primeiro dígito não pode ser zero.\n",
        "\n",
        "* teste=['12', '144', '09', '12345', '12a']\n",
        "* saída= 12, 144"
      ],
      "metadata": {
        "id": "qt9QVmVmI1OW"
      }
    },
    {
      "cell_type": "code",
      "source": [
        "teste=['12', '144', '09', '12345', '12a']\n",
        "regex=r'^[1-9]\\d{1,3}$'\n",
        "testar_exercicio(regex,teste)"
      ],
      "metadata": {
        "id": "XYLZSPXfjR2L",
        "colab": {
          "base_uri": "https://localhost:8080/"
        },
        "outputId": "f73a0962-09fc-42e0-d8b1-2ec565124b10"
      },
      "execution_count": null,
      "outputs": [
        {
          "output_type": "stream",
          "name": "stdout",
          "text": [
            "12\n",
            "144\n"
          ]
        }
      ]
    },
    {
      "cell_type": "markdown",
      "source": [
        "### **Q5)** Detectar trechos em que inicie com um algarismo(0-9) e termine com um letra.\n",
        "\n",
        "* teste=['1111111b','1bbbb','1b1b1b','teste 1a','bb1bbbbb11b','b1b1b1b1']\n",
        "* saída= '1111111b', '1bbbb', '1b1b1b', '1a', 'bb1bbbbb11b'] "
      ],
      "metadata": {
        "id": "NDtHyXjLI3D2"
      }
    },
    {
      "cell_type": "code",
      "source": [
        "teste=['1111111b','1bbbb','1b1b1b','teste 1a','bb1bbbbb11b','b1b1b1b1']\n",
        "regex=r'\\d\\w*[A-Za-z]\\b'\n",
        "testar_exercicio(regex,teste)"
      ],
      "metadata": {
        "id": "tIIBHwNle-dD",
        "colab": {
          "base_uri": "https://localhost:8080/"
        },
        "outputId": "f8325140-23d9-46c7-ff38-9e1a4ddb1175"
      },
      "execution_count": null,
      "outputs": [
        {
          "output_type": "stream",
          "name": "stdout",
          "text": [
            "1111111b\n",
            "1bbbb\n",
            "1b1b1b\n",
            "1a\n",
            "1bbbbb11b\n"
          ]
        }
      ]
    },
    {
      "cell_type": "markdown",
      "source": [
        "### **Q6)** Detectar duas palavras unidas pelas preposições 'de', 'do', 'da', 'dos' ou 'das'. *As palavras somente podem conter letras e elas são separadas por um ou mais espaços.*\n",
        "* teste=['Ouviram do Ipiranga','Às margens plácidas\n",
        "De um povo heroico', \n",
        "'Brilhou no céu da pátria nesse instante', \n",
        "'um raio vívido de amor e de esperança, à terra desce']\n",
        "* saída= 'Ouviram do Ipiranga', 'céu da pátria', 'vívido de amor', 'e de esperança'"
      ],
      "metadata": {
        "id": "F-2gWmDLI40R"
      }
    },
    {
      "cell_type": "code",
      "source": [
        "teste=['Ouviram do Ipiranga','Às margens plácidas De um povo heroico', 'Brilhou no céu da pátria nesse instante', \n",
        "'um raio vívido de amor e de esperança, à terra desce']\n",
        "regex=r'\\w*\\s(?:d[eoa]|d[os|as])\\s\\w*'\n",
        "\n",
        "for item in teste:\n",
        "  if (re.search(regex, item)):\n",
        "    print(re.findall(regex, item))"
      ],
      "metadata": {
        "id": "FCgrg1u_h6fh",
        "colab": {
          "base_uri": "https://localhost:8080/"
        },
        "outputId": "c5dde932-1148-4bbe-f81a-4e741cc2cada"
      },
      "execution_count": null,
      "outputs": [
        {
          "output_type": "stream",
          "name": "stdout",
          "text": [
            "['Ouviram do Ipiranga']\n",
            "['céu da pátria']\n",
            "['vívido de amor', 'e de esperança']\n"
          ]
        }
      ]
    },
    {
      "cell_type": "markdown",
      "source": [
        "### **Q7)** Detectar uma palavra seguida de um espaço seguido de um sequência de um ou mais dígitos.\n",
        "\n",
        "* teste=['teste 1234', 'parágrafo 12345','letra 1','a b 1 c','cc 11 a', 'dois espaços não pode  2']\n",
        "* saída=['teste 1234', 'parágrafo 12345', 'letra 1', 'cc 11']"
      ],
      "metadata": {
        "id": "rT27VHl3I6nQ"
      }
    },
    {
      "cell_type": "code",
      "source": [
        "teste=['teste 1234', 'parágrafo 12345','letra 1','a  b  1 c','cc 11 a', 'dois espaços não pode  2']\n",
        "regex = r'\\w+\\s\\d+'\n",
        "testar_exercicio(regex, teste)"
      ],
      "metadata": {
        "id": "jaAQdh1ugDr4",
        "colab": {
          "base_uri": "https://localhost:8080/"
        },
        "outputId": "ce0258df-7950-4c4f-acae-045d4260af0d"
      },
      "execution_count": null,
      "outputs": [
        {
          "output_type": "stream",
          "name": "stdout",
          "text": [
            "teste 1234\n",
            "parágrafo 12345\n",
            "letra 1\n",
            "cc 11\n"
          ]
        }
      ]
    },
    {
      "cell_type": "markdown",
      "source": [
        "### **Q8)** Detectar palavras de no mínimo 3 letras e com TODAS as letras maiúsculas.\n",
        "\n",
        "* teste=['Hino Nacional Brasileiro', 'BRASIL', 'BRASil', 'Durante o “Dia do Fico”, D. Pedro declarou que permaneceria no Brasil.', \"Bandeira DO Brasil\",\n",
        "'Durante o “Dia do Fico”, DOM PEDRO declarou que permaneceria no Brasil.'\n",
        "* saída='BRASIL, DOM, PEDRO"
      ],
      "metadata": {
        "id": "C_geio75I78P"
      }
    },
    {
      "cell_type": "code",
      "source": [
        "teste=['Hino Nacional Brasileiro', 'BRASIL','Durante o “Dia do Fico”, D. Pedro declarou que permaneceria no Brasil.', \"Bandeira DO Brasil\",\n",
        "'Durante o “Dia do Fico”, DOM PEDRO declarou que permaneceria no Brasil.']\n",
        "regex=r'([A-ZÁÃÀÉÍÓÊÕÚ]{3,}\\s?)'\n",
        "\n",
        "for item in teste:\n",
        "  if (re.search(regex, item)):\n",
        "    print(re.findall(regex, item))\n"
      ],
      "metadata": {
        "id": "mzP4yxZLjM1s",
        "colab": {
          "base_uri": "https://localhost:8080/"
        },
        "outputId": "1476b194-c5a5-4566-c8a4-e77c429db1ef"
      },
      "execution_count": null,
      "outputs": [
        {
          "output_type": "stream",
          "name": "stdout",
          "text": [
            "['BRASIL']\n",
            "['DOM ', 'PEDRO ']\n"
          ]
        }
      ]
    },
    {
      "cell_type": "markdown",
      "source": [
        "### **Q9)** Detectar duas palavras consecutivas, de no mínimo 2 letras cada, com TODAS as letras maiúsculas.\n",
        "* teste=['Durante o “Dia do Fico”, DOM PEDRO declarou que permaneceria no Brasil.', 'O Magazine Luiza(MGLU) é uma empresa de varejo', 'LUIZA TRAJANO é uma empresária brasileira.', 'RELATÓRIO DE TENDÊNCIAs']\n",
        "* saída= 'DOM PEDRO', 'LUIZA TRAJANO, 'RELATÓRIO DE'"
      ],
      "metadata": {
        "id": "MW6lugCjJKo0"
      }
    },
    {
      "cell_type": "code",
      "source": [
        "teste=['Durante o “Dia do Fico”, DOM PEDRO declarou que permaneceria no Brasil.', \n",
        "       'O Magazine Luiza(MGLU) é uma empresa de varejo', 'LUIZA TRAJANO é uma empresária brasileira.', 'RELATÓRIO DE TENDÊNCIAs']\n",
        "regex=r'[A-ZÁÃÀÉÍÓÊÕÚ]{2,}\\s[A-ZÁÃÀÉÍÓÊÕÚ]{2,}'\n",
        "\n",
        "for item in teste:\n",
        "  if (re.search(regex, item)):\n",
        "    print(re.findall(regex, item))\n"
      ],
      "metadata": {
        "id": "kZ2SKwKWl4ac",
        "colab": {
          "base_uri": "https://localhost:8080/"
        },
        "outputId": "e320505a-355e-4100-b6f0-234b8983993d"
      },
      "execution_count": null,
      "outputs": [
        {
          "output_type": "stream",
          "name": "stdout",
          "text": [
            "['DOM PEDRO']\n",
            "['LUIZA TRAJANO']\n",
            "['RELATÓRIO DE']\n"
          ]
        }
      ]
    },
    {
      "cell_type": "markdown",
      "source": [
        "### **Q10)** Detectar duas ou mais palavras consecutivas com todas as letras maiúsculas. Cada palavra pode possuir qualquer quantidade de letras..\n",
        "\n",
        "* teste=['Durante o “Dia do Fico”, DOM PEDRO declarou que permaneceria no Brasil.', 'O Magazine Luiza(MGLU) é uma empresa de varejo', 'LUIZA HELENA TRAJANO é uma empresária brasileira.', 'RELATÓRIO de TENDÊNCIAS', 'O RELATÓRIO DE DESEMPENHO foi publicado']\n",
        "* saída= 'DOM PEDRO', 'LUIZA HELENA TRAJANO', 'O RELATÓRIO DE DESEMPENHO'"
      ],
      "metadata": {
        "id": "bhMx3YbWJLcI"
      }
    },
    {
      "cell_type": "code",
      "source": [
        "teste=['Durante o “Dia do Fico”, DOM PEDRO declarou que permaneceria no Brasil.', \n",
        "       'O Magazine Luiza(MGLU) é uma empresa de varejo', 'LUIZA HELENA TRAJANO é uma empresária brasileira.', \n",
        "       'RELATÓRIO de TENDÊNCIAS', 'O RELATÓRIO DE DESEMPENHO foi publicado']\n",
        "regex=r'([A-ZÁÃÀÉÍÓÊÕÚ]+\\s){2,}'\n",
        "\n",
        "testar_exercicio(regex, teste)"
      ],
      "metadata": {
        "id": "xlDrh3kQonVN",
        "colab": {
          "base_uri": "https://localhost:8080/"
        },
        "outputId": "49d44865-cb31-4be6-f4df-0a4f53a6f979"
      },
      "execution_count": null,
      "outputs": [
        {
          "output_type": "stream",
          "name": "stdout",
          "text": [
            "DOM PEDRO \n",
            "LUIZA HELENA TRAJANO \n",
            "O RELATÓRIO DE DESEMPENHO \n"
          ]
        }
      ]
    },
    {
      "cell_type": "markdown",
      "source": [
        "### **Q11)** Detectar um endereço [IP](https://en.wikipedia.org/wiki/IP_address). ex.: 127.0.0.1, 192.168.0.254. Um IP é formado por exatamente 4 números separados por pontos. Cada número possui no máximo 3 dígitos.\n",
        "* teste=['127.0.0.1','192.168.0.254','10.11.10.11','127.127.127.127','9999.0.0.1','127404041','a127.0.0.1', '127.a.a.1']\n",
        "* saída= '127.0.0.1','192.168.0.254','10.11.10.11','127.127.127.127'"
      ],
      "metadata": {
        "id": "FQgW5zoCJMOk"
      }
    },
    {
      "cell_type": "code",
      "source": [
        "teste=['127.0.0.1','192.168.0.254','10.11.10.11','127.127.127.127','9999.0.0.1','127404041','a127.0.0.1', '127.a.a.1']\n",
        "regex = r'^\\d{1,3}\\.\\d{1,3}\\.\\d{1,3}\\.\\d{1,3}'\n",
        "testar_exercicio(regex, teste)"
      ],
      "metadata": {
        "id": "oJgJIWKJn0wm",
        "colab": {
          "base_uri": "https://localhost:8080/"
        },
        "outputId": "885fa144-d9d6-4f1d-ac9c-b5ace8dc7c86"
      },
      "execution_count": null,
      "outputs": [
        {
          "output_type": "stream",
          "name": "stdout",
          "text": [
            "127.0.0.1\n",
            "192.168.0.254\n",
            "10.11.10.11\n",
            "127.127.127.127\n"
          ]
        }
      ]
    },
    {
      "cell_type": "markdown",
      "source": [
        "### **Q12)** Detectar uma url de um site que inicie com o prefixo 'http://' e finalize ou com '.com' ou '.com.br' ou '.br'\n",
        "\n",
        "* teste=['http://www.obrigado.com', 'hp://www.obrigado.com', 'www.thankyou.com', 'http://www.brasil.br', 'http://www.tearto.art', 'http://www.olance.com.ar' ]\n",
        "* saída= 'http://www.obrigado.com' 'http://www.brasil.br' "
      ],
      "metadata": {
        "id": "7LHcm1LIJMro"
      }
    },
    {
      "cell_type": "code",
      "source": [
        "teste = ['http://www.obrigado.com', 'hp://www.obrigado.com', 'www.thankyou.com', \n",
        "         'http://www.brasil.br', 'http://www.tearto.art', \n",
        "         'http://www.olance.com.ar' ]\n",
        "regex = r'http\\:\\/\\/.*\\.(com|br|com\\.br)$'\n",
        "testar_exercicio(regex, teste)"
      ],
      "metadata": {
        "id": "8GfuacYZHWI-",
        "colab": {
          "base_uri": "https://localhost:8080/"
        },
        "outputId": "3614b090-2ba5-4b90-edee-29f668ef8991"
      },
      "execution_count": null,
      "outputs": [
        {
          "output_type": "stream",
          "name": "stdout",
          "text": [
            "http://www.obrigado.com\n",
            "http://www.brasil.br\n"
          ]
        }
      ]
    },
    {
      "cell_type": "markdown",
      "source": [
        "### **Q13)** Detectar números de CPF com separador de milhares e hífen.\n",
        "\n",
        "* teste=['000.000.000-00','111.111.111-11','0111.111.111-11','11101110111-11','111.111.111111','1110110111111', '..1.11011011-11']\n",
        "* saída= '000.000.000-00','111.111.111-11'"
      ],
      "metadata": {
        "id": "SkEYcCf4JNmw"
      }
    },
    {
      "cell_type": "code",
      "source": [
        "teste=['000.000.000-00','111.111.111-11','0111.111.111-11','11101110111-11',\n",
        "       '111.111.111111','1110110111111', '..1.11011011-11']\n",
        "regex = r'\\b\\d{3}\\.\\d{3}\\.\\d{3}-\\d{2}\\b'\n",
        "testar_exercicio(regex, teste)"
      ],
      "metadata": {
        "id": "oaVIlLdtolZy",
        "colab": {
          "base_uri": "https://localhost:8080/"
        },
        "outputId": "cd151070-bab8-4ab8-96af-a6bff18c54fd"
      },
      "execution_count": null,
      "outputs": [
        {
          "output_type": "stream",
          "name": "stdout",
          "text": [
            "000.000.000-00\n",
            "111.111.111-11\n"
          ]
        }
      ]
    },
    {
      "cell_type": "markdown",
      "source": [
        "### **Q14)** Detectar números de CPF com separador de milhares opcional e hífen opcional.\n",
        "\n",
        "* teste=['000.000.000-00','111.111.111-11','0111.111.111-11','11101110111-11','111.111.111111','1110110111111', '..1.11011011-11', '123456789-12','123.456.78912', '12345678912']\n",
        "* saída= '000.000.000-00','111.111.111-11', '11101110111', '123456789-12','123.456.78912', '12345678912'"
      ],
      "metadata": {
        "id": "By__nCvLJOD6"
      }
    },
    {
      "cell_type": "code",
      "source": [
        "teste=['000.000.000-00','111.111.111-11','0111.111.111-11','11101110111-11',\n",
        "       '111.111.111111','1110110111111', '..1.11011011-11', '123456789-12',\n",
        "       '123.456.78912', '12345678912']\n",
        "regex = r'\\b\\d{3}\\.?\\d{3}\\.?\\d{3}-?\\d{2}\\b'\n",
        "testar_exercicio(regex, teste)"
      ],
      "metadata": {
        "id": "ZceC7KHxpWlQ",
        "colab": {
          "base_uri": "https://localhost:8080/"
        },
        "outputId": "eafc7dbe-e656-48c5-d6d7-c8b603e9c632"
      },
      "execution_count": null,
      "outputs": [
        {
          "output_type": "stream",
          "name": "stdout",
          "text": [
            "000.000.000-00\n",
            "111.111.111-11\n",
            "11101110111\n",
            "123456789-12\n",
            "123.456.78912\n",
            "12345678912\n"
          ]
        }
      ]
    },
    {
      "cell_type": "markdown",
      "source": [
        "### **Q15)** Detectar CNPJ com separador de milhares, barra e hífen.\n",
        "* teste=['00.000.000/0001-00','xx.000.000/0001-xx','0011001000/0001-00','00.000.00010001-00','00.000.000/0001100','00000.000/0001-00','00000000/0001-00','000000000001-00']\n",
        "* saída= '00.000.000/0001-00'"
      ],
      "metadata": {
        "id": "_mURUbwdJO6g"
      }
    },
    {
      "cell_type": "code",
      "source": [
        "teste=['00.000.000/0001-00','xx.000.000/0001-xx','0011001000/0001-00',\n",
        "       '00.000.00010001-00','00.000.000/0001100','00000.000/0001-00',\n",
        "       '00000000/0001-00','000000000001-00']\n",
        "regex = r'\\b\\d{2}\\.\\d{3}\\.\\d{3}\\/\\d{4}-\\d{2}\\b'\n",
        "testar_exercicio(regex, teste)"
      ],
      "metadata": {
        "id": "dyGsJlLap4T4",
        "colab": {
          "base_uri": "https://localhost:8080/"
        },
        "outputId": "5551f5d9-4ddb-466b-83cb-07cf1dcc6e75"
      },
      "execution_count": null,
      "outputs": [
        {
          "output_type": "stream",
          "name": "stdout",
          "text": [
            "00.000.000/0001-00\n"
          ]
        }
      ]
    },
    {
      "cell_type": "markdown",
      "source": [
        "### **Q16)** Detectar a sequencia de 7 caracteres que possua o formato sete letras maiúsculas, espaço, e 4 algarismos, sendo que a primeira letra só pode ser J, K ou L.\n",
        "\n",
        "* teste=['JPA 2345', 'JJJ3767', 'JJJ 1234', 'ABJ 0000', 'jkl 1234', 'LAp 1234']\n",
        "* saída= 'JPA 2345', 'JJJ 1234'"
      ],
      "metadata": {
        "id": "IDQiJmUnJPqz"
      }
    },
    {
      "cell_type": "code",
      "source": [
        "teste=['JPA 2345', 'JJJ3767', 'JJJ 1234', 'ABJ 0000', 'jkl 1234', 'LAp 1234']\n",
        "regex=r'(J|K|L)[A-Z]{2}\\s\\d{4}'\n",
        "testar_exercicio(regex,teste)"
      ],
      "metadata": {
        "id": "bWu9vlz5rZqY",
        "colab": {
          "base_uri": "https://localhost:8080/"
        },
        "outputId": "b638b4b6-e7ef-46ae-9147-8b933cc864c8"
      },
      "execution_count": null,
      "outputs": [
        {
          "output_type": "stream",
          "name": "stdout",
          "text": [
            "JPA 2345\n",
            "JJJ 1234\n"
          ]
        }
      ]
    },
    {
      "cell_type": "markdown",
      "source": [
        "### **Q17)** Detectar números de telefone no formato (xx)xxxx-xxxx.\n",
        "\n",
        "* teste=['(61)3316-0000','3316-0000','x61x3316x0000','(61)3316x0000','((61)3316-00006','77(61)3316x000077','(77)(61)3316-00007']\n",
        "* saída= '(61)3316-0000'"
      ],
      "metadata": {
        "id": "jyt0bg8GJRYi"
      }
    },
    {
      "cell_type": "code",
      "source": [
        "teste=['(61)3316-0000','3316-0000','x61x3316x0000','(61)3316x0000','((61)3316-00006','77(61)3316x000077','(77)(61)3316-00007']\n",
        "regex=r'^\\(\\d{2}\\)\\d{4}-\\d{4}$'\n",
        "testar_exercicio(regex,teste)"
      ],
      "metadata": {
        "id": "5iVypYb1rY10",
        "colab": {
          "base_uri": "https://localhost:8080/"
        },
        "outputId": "a7ffb1d0-6483-4b6d-e3ee-f925e27c296e"
      },
      "execution_count": null,
      "outputs": [
        {
          "output_type": "stream",
          "name": "stdout",
          "text": [
            "(61)3316-0000\n"
          ]
        }
      ]
    },
    {
      "cell_type": "markdown",
      "source": [
        "### **Q18)** Detectar um número de telefone no formato (xx)xxxx-xxxx ou xxxx-xxxx (sem DDD).\n",
        "\n",
        "* teste=['(61)3316-0000','3316-0000','x61x3316x0000','(61)3316x0000','((61)3316-00006','77(61)3316x000077','(77)(61)3316-00007']\n",
        "* saída= '(61)3316-0000','3316-0000'"
      ],
      "metadata": {
        "id": "LvfKH3J3JSXi"
      }
    },
    {
      "cell_type": "code",
      "source": [
        "teste = ['(61)3316-0000','3316-0000','x61x3316x0000','(61)3316x0000',\n",
        "       '((61)3316-00006','77(61)3316x000077','(77)(61)3316-00007']\n",
        "regex = r'^(\\(\\d{2}\\))?\\d{4}-\\d{4}$'\n",
        "\n",
        "testar_exercicio(regex, teste)"
      ],
      "metadata": {
        "id": "4e9dHwjSrrg2",
        "colab": {
          "base_uri": "https://localhost:8080/"
        },
        "outputId": "8f6377b2-c260-4403-d4f3-5a16fa80e489"
      },
      "execution_count": null,
      "outputs": [
        {
          "output_type": "stream",
          "name": "stdout",
          "text": [
            "(61)3316-0000\n",
            "3316-0000\n"
          ]
        }
      ]
    },
    {
      "cell_type": "markdown",
      "source": [
        "### **Q19)**  Detectar números (0-9) com a quantidade entre 1 e 3 algarismos em um trecho de texto.\n",
        "\n",
        "* teste1='Exercicios 1, 12, 13 e 345 são importantes, mas não o 1002.'\n",
        "* saída= '1', '12', '13', '345'"
      ],
      "metadata": {
        "id": "bXTUy9HqJTLJ"
      }
    },
    {
      "cell_type": "code",
      "source": [
        "regex=r'(\\b\\d{1,3}\\b)'\n",
        "teste = 'Exercicios 1, 12, 13 e 345 são importantes, mas não o 1002.'\n",
        "re.findall(regex, teste)"
      ],
      "metadata": {
        "id": "EghLh1O1rqk3",
        "colab": {
          "base_uri": "https://localhost:8080/"
        },
        "outputId": "00a7dd25-c735-4565-88bc-10c513e2f19e"
      },
      "execution_count": null,
      "outputs": [
        {
          "output_type": "execute_result",
          "data": {
            "text/plain": [
              "['1', '12', '13', '345']"
            ]
          },
          "metadata": {},
          "execution_count": 22
        }
      ]
    },
    {
      "cell_type": "markdown",
      "source": [
        "### **Q20)** Criar uma função que receba uma data no formato 'yyyy-mm-dd' e retorne no formato 'dd-mm-yyyy'. Caso a entrada não esteja no formato, lançar exceção.\n",
        "\n",
        "* teste='2022-08-18', '2022-Ago-18'\n",
        "* saída= '18-08-2022', 'Formato inválido'"
      ],
      "metadata": {
        "id": "__Np4QjiJp_c"
      }
    },
    {
      "cell_type": "code",
      "source": [
        "def formatar_ano(data):\n",
        "  regex=r'\\b(\\d{4})-(\\d{2})-(\\d{2})\\b'\n",
        "  match = re.findall(regex, data)\n",
        "  if (len(match)==0):\n",
        "    raise Exception(\"Formato Inválido\")\n",
        "  result = match[0][2]+'-'+match[0][1]+'-'+match[0][0]\n",
        "  return result"
      ],
      "metadata": {
        "id": "MQXHKWD1iqQP"
      },
      "execution_count": null,
      "outputs": []
    },
    {
      "cell_type": "code",
      "source": [
        "formatar_ano('2021-08-18')"
      ],
      "metadata": {
        "colab": {
          "base_uri": "https://localhost:8080/",
          "height": 35
        },
        "id": "MitVgZyFEgYr",
        "outputId": "c4bc133b-7eb9-42bc-9b86-9bf82bd32dc7"
      },
      "execution_count": null,
      "outputs": [
        {
          "output_type": "execute_result",
          "data": {
            "text/plain": [
              "'18-08-2021'"
            ],
            "application/vnd.google.colaboratory.intrinsic+json": {
              "type": "string"
            }
          },
          "metadata": {},
          "execution_count": 24
        }
      ]
    },
    {
      "cell_type": "markdown",
      "source": [
        "<div align=right>\n",
        " <sub><b>Processamento de Linguagem Natural</b></sub><br>\n",
        " <sub>Autor: Alexandre Vaz Roriz</sub><br>\n",
        " <a href=https://github.com/alexvaroz/portfolio>Portifólio</a>\n",
        "</div>"
      ],
      "metadata": {
        "id": "biwYWxwy6wNT"
      }
    }
  ]
}