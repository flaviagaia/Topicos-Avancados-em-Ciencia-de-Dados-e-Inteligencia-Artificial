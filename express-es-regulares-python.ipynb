{
 "cells": [
  {
   "cell_type": "markdown",
   "id": "0a84d336",
   "metadata": {
    "id": "qmPmefhtgEud",
    "papermill": {
     "duration": 0.010456,
     "end_time": "2022-11-27T11:18:29.701985",
     "exception": false,
     "start_time": "2022-11-27T11:18:29.691529",
     "status": "completed"
    },
    "tags": []
   },
   "source": [
    "## Exercícios - Expressões Regulares\n",
    "\n",
    "Hora de praticar!!!\n",
    "\n",
    "Para cada exercício, apresente o código da função que execute a ação proposta e a execute para os exemplos listados. Vide exercício 1 para modelo."
   ]
  },
  {
   "cell_type": "code",
   "execution_count": 1,
   "id": "3072a8fe",
   "metadata": {
    "execution": {
     "iopub.execute_input": "2022-11-27T11:18:29.721487Z",
     "iopub.status.busy": "2022-11-27T11:18:29.720679Z",
     "iopub.status.idle": "2022-11-27T11:18:29.729580Z",
     "shell.execute_reply": "2022-11-27T11:18:29.728875Z"
    },
    "id": "MpHSdsl5h6U8",
    "papermill": {
     "duration": 0.021927,
     "end_time": "2022-11-27T11:18:29.732320",
     "exception": false,
     "start_time": "2022-11-27T11:18:29.710393",
     "status": "completed"
    },
    "tags": []
   },
   "outputs": [],
   "source": [
    "# importação das bibliotecas\n",
    "import re"
   ]
  },
  {
   "cell_type": "markdown",
   "id": "e945e780",
   "metadata": {
    "id": "__m85CXsgovk",
    "papermill": {
     "duration": 0.009267,
     "end_time": "2022-11-27T11:18:29.749846",
     "exception": false,
     "start_time": "2022-11-27T11:18:29.740579",
     "status": "completed"
    },
    "tags": []
   },
   "source": [
    "### Exemplo) Detectar palavra de 5 letras que inicia com a letra `s`.\n",
    "\n",
    "* teste=['sábado', 'sexta', 'vassoura', 'astuto', 'Santo', 'santo']\n",
    "* saída= 'sexta', 'santo'\n"
   ]
  },
  {
   "cell_type": "code",
   "execution_count": 2,
   "id": "b96d7869",
   "metadata": {
    "execution": {
     "iopub.execute_input": "2022-11-27T11:18:29.772368Z",
     "iopub.status.busy": "2022-11-27T11:18:29.771563Z",
     "iopub.status.idle": "2022-11-27T11:18:29.777869Z",
     "shell.execute_reply": "2022-11-27T11:18:29.777078Z"
    },
    "id": "EmqwXECOglzM",
    "outputId": "5534331e-e014-43a5-cbe9-0c214af60710",
    "papermill": {
     "duration": 0.019756,
     "end_time": "2022-11-27T11:18:29.780817",
     "exception": false,
     "start_time": "2022-11-27T11:18:29.761061",
     "status": "completed"
    },
    "tags": []
   },
   "outputs": [
    {
     "name": "stdout",
     "output_type": "stream",
     "text": [
      "sexta\n",
      "santo\n"
     ]
    }
   ],
   "source": [
    "teste=['sábado', 'sexta', 'vassoura', 'astuto', 'Santo', 'santo']\n",
    "regex='(^s\\w{4}$)'\n",
    "\n",
    "for item in teste:\n",
    "  if (re.search(regex, item)):\n",
    "    print(item)"
   ]
  },
  {
   "cell_type": "code",
   "execution_count": 3,
   "id": "944019b9",
   "metadata": {
    "execution": {
     "iopub.execute_input": "2022-11-27T11:18:29.801227Z",
     "iopub.status.busy": "2022-11-27T11:18:29.800726Z",
     "iopub.status.idle": "2022-11-27T11:18:29.807185Z",
     "shell.execute_reply": "2022-11-27T11:18:29.805803Z"
    },
    "id": "Re5d78IquTxV",
    "papermill": {
     "duration": 0.019768,
     "end_time": "2022-11-27T11:18:29.809761",
     "exception": false,
     "start_time": "2022-11-27T11:18:29.789993",
     "status": "completed"
    },
    "tags": []
   },
   "outputs": [],
   "source": [
    "# funcao de teste\n",
    "def testar_exercicio(regex, teste):\n",
    "  for item in teste:\n",
    "    if (re.search(regex, item)):\n",
    "      print(re.search(regex, item).group())\n",
    "      "
   ]
  },
  {
   "cell_type": "markdown",
   "id": "63e65284",
   "metadata": {
    "id": "X6xGh31AGIdO",
    "papermill": {
     "duration": 0.00861,
     "end_time": "2022-11-27T11:18:29.827318",
     "exception": false,
     "start_time": "2022-11-27T11:18:29.818708",
     "status": "completed"
    },
    "tags": []
   },
   "source": [
    "### **Q1)** Detectar Uma letra `a` imediatamente seguida por uma ou mais letras `e`.\n",
    "\n",
    "* teste=['ae', 'a', 'bae', 'aeeee', 'aeeeeeeeee', 'abeeee']\n",
    "* saída= 'ae', 'bae', 'aeeee', 'aeeeeeeeee'"
   ]
  },
  {
   "cell_type": "code",
   "execution_count": 4,
   "id": "074e3db1",
   "metadata": {
    "execution": {
     "iopub.execute_input": "2022-11-27T11:18:29.846549Z",
     "iopub.status.busy": "2022-11-27T11:18:29.846126Z",
     "iopub.status.idle": "2022-11-27T11:18:29.853032Z",
     "shell.execute_reply": "2022-11-27T11:18:29.851713Z"
    },
    "id": "j7ateImgAhCz",
    "outputId": "088b0848-a64f-4c77-9125-d61faee0a5a6",
    "papermill": {
     "duration": 0.020523,
     "end_time": "2022-11-27T11:18:29.856206",
     "exception": false,
     "start_time": "2022-11-27T11:18:29.835683",
     "status": "completed"
    },
    "tags": []
   },
   "outputs": [
    {
     "name": "stdout",
     "output_type": "stream",
     "text": [
      "ae\n",
      "bae\n",
      "aeeee\n",
      "aeeeeeeeee\n"
     ]
    }
   ],
   "source": [
    "teste=['ae', 'a', 'bae', 'aeeee', 'aeeeeeeeee', 'abeeee']\n",
    "regex=r'ae+'\n",
    "\n",
    "for item in teste:\n",
    "  if(re.search(regex, item)):\n",
    "    print(item)"
   ]
  },
  {
   "cell_type": "markdown",
   "id": "850a6338",
   "metadata": {
    "id": "UdY4xhtwImne",
    "papermill": {
     "duration": 0.008585,
     "end_time": "2022-11-27T11:18:29.873792",
     "exception": false,
     "start_time": "2022-11-27T11:18:29.865207",
     "status": "completed"
    },
    "tags": []
   },
   "source": [
    "### **Q2)** Detectar palavras de 6 a 15 letras, sem considerar caracteres especiais ou acentuação.\n",
    "\n",
    "* teste=['abraço', 'melodia', 'rotin', 'asa-delta', 'amigão', 'inconstitucionalissimamente']\n",
    "* saída= 'melodia'"
   ]
  },
  {
   "cell_type": "code",
   "execution_count": 5,
   "id": "b32e75fd",
   "metadata": {
    "execution": {
     "iopub.execute_input": "2022-11-27T11:18:29.893242Z",
     "iopub.status.busy": "2022-11-27T11:18:29.892790Z",
     "iopub.status.idle": "2022-11-27T11:18:29.899391Z",
     "shell.execute_reply": "2022-11-27T11:18:29.898088Z"
    },
    "id": "mPA2yvbqBYpd",
    "outputId": "f0cc4c4b-e2fe-4f52-e2ad-839623e23c69",
    "papermill": {
     "duration": 0.019975,
     "end_time": "2022-11-27T11:18:29.902238",
     "exception": false,
     "start_time": "2022-11-27T11:18:29.882263",
     "status": "completed"
    },
    "tags": []
   },
   "outputs": [
    {
     "name": "stdout",
     "output_type": "stream",
     "text": [
      "melodia\n"
     ]
    }
   ],
   "source": [
    "teste=['abraço', 'melodia', 'rotin', 'asa-delta', 'amigão', 'inconstitucionalissimamente']\n",
    "regex=r'^[a-zA-Z]{6,15}\\Z'\n",
    "\n",
    "testar_exercicio(regex,teste)"
   ]
  },
  {
   "cell_type": "markdown",
   "id": "b3297478",
   "metadata": {
    "id": "GK0sHZv6___a",
    "papermill": {
     "duration": 0.008867,
     "end_time": "2022-11-27T11:18:29.920363",
     "exception": false,
     "start_time": "2022-11-27T11:18:29.911496",
     "status": "completed"
    },
    "tags": []
   },
   "source": [
    "*obs. O caractere `\\Z` tem o mesmo comportamento do `$` e captura até o final da linha. Nesse caso teria o mesmo resultado de utilizar o \\b como final da string.*"
   ]
  },
  {
   "cell_type": "markdown",
   "id": "36d8fec8",
   "metadata": {
    "id": "_XSM6VrRIy24",
    "papermill": {
     "duration": 0.008738,
     "end_time": "2022-11-27T11:18:29.937780",
     "exception": false,
     "start_time": "2022-11-27T11:18:29.929042",
     "status": "completed"
    },
    "tags": []
   },
   "source": [
    "### **Q3)** Detectar uma palavra com 8 a 10 letras que termine com a letra 'z'\n",
    "* teste=['chafariz','antes chafariz depois', 'gravidez', 'robustezjunto', 'antestalvezjunto', 'talvez']\n",
    "* saída= 'chafariz', 'chafariz', 'gravidez'"
   ]
  },
  {
   "cell_type": "code",
   "execution_count": 6,
   "id": "729a89ac",
   "metadata": {
    "execution": {
     "iopub.execute_input": "2022-11-27T11:18:29.967184Z",
     "iopub.status.busy": "2022-11-27T11:18:29.966710Z",
     "iopub.status.idle": "2022-11-27T11:18:29.973884Z",
     "shell.execute_reply": "2022-11-27T11:18:29.972338Z"
    },
    "id": "v2CD08SyjSfM",
    "outputId": "22f91255-4168-45a3-e10e-ee9ae3f0b125",
    "papermill": {
     "duration": 0.030182,
     "end_time": "2022-11-27T11:18:29.976643",
     "exception": false,
     "start_time": "2022-11-27T11:18:29.946461",
     "status": "completed"
    },
    "tags": []
   },
   "outputs": [
    {
     "name": "stdout",
     "output_type": "stream",
     "text": [
      "chafariz\n",
      "chafariz\n",
      "gravidez\n"
     ]
    }
   ],
   "source": [
    "teste=['chafariz','antes chafariz depois', 'gravidez', 'robustezjunto', 'antestalvezjunto', 'talvez']\n",
    "regex=r'\\w{7,9}z\\b'\n",
    "testar_exercicio(regex, teste)"
   ]
  },
  {
   "cell_type": "markdown",
   "id": "9ebe2215",
   "metadata": {
    "id": "qt9QVmVmI1OW",
    "papermill": {
     "duration": 0.009183,
     "end_time": "2022-11-27T11:18:29.995184",
     "exception": false,
     "start_time": "2022-11-27T11:18:29.986001",
     "status": "completed"
    },
    "tags": []
   },
   "source": [
    "### **Q4)** Detectar Um número inteiro com 2, 3 ou 4 dígitos, sendo que o primeiro dígito não pode ser zero.\n",
    "\n",
    "* teste=['12', '144', '09', '12345', '12a']\n",
    "* saída= 12, 144"
   ]
  },
  {
   "cell_type": "code",
   "execution_count": 7,
   "id": "bb790b1f",
   "metadata": {
    "execution": {
     "iopub.execute_input": "2022-11-27T11:18:30.015307Z",
     "iopub.status.busy": "2022-11-27T11:18:30.014831Z",
     "iopub.status.idle": "2022-11-27T11:18:30.021011Z",
     "shell.execute_reply": "2022-11-27T11:18:30.020131Z"
    },
    "id": "XYLZSPXfjR2L",
    "outputId": "f73a0962-09fc-42e0-d8b1-2ec565124b10",
    "papermill": {
     "duration": 0.019926,
     "end_time": "2022-11-27T11:18:30.023918",
     "exception": false,
     "start_time": "2022-11-27T11:18:30.003992",
     "status": "completed"
    },
    "tags": []
   },
   "outputs": [
    {
     "name": "stdout",
     "output_type": "stream",
     "text": [
      "12\n",
      "144\n"
     ]
    }
   ],
   "source": [
    "teste=['12', '144', '09', '12345', '12a']\n",
    "regex=r'^[1-9]\\d{1,3}$'\n",
    "testar_exercicio(regex,teste)"
   ]
  },
  {
   "cell_type": "markdown",
   "id": "13b9ce6a",
   "metadata": {
    "id": "NDtHyXjLI3D2",
    "papermill": {
     "duration": 0.008671,
     "end_time": "2022-11-27T11:18:30.041650",
     "exception": false,
     "start_time": "2022-11-27T11:18:30.032979",
     "status": "completed"
    },
    "tags": []
   },
   "source": [
    "### **Q5)** Detectar trechos em que inicie com um algarismo(0-9) e termine com um letra.\n",
    "\n",
    "* teste=['1111111b','1bbbb','1b1b1b','teste 1a','bb1bbbbb11b','b1b1b1b1']\n",
    "* saída= '1111111b', '1bbbb', '1b1b1b', '1a', 'bb1bbbbb11b'] "
   ]
  },
  {
   "cell_type": "code",
   "execution_count": 8,
   "id": "5a7c75d2",
   "metadata": {
    "execution": {
     "iopub.execute_input": "2022-11-27T11:18:30.061825Z",
     "iopub.status.busy": "2022-11-27T11:18:30.061356Z",
     "iopub.status.idle": "2022-11-27T11:18:30.068935Z",
     "shell.execute_reply": "2022-11-27T11:18:30.067257Z"
    },
    "id": "tIIBHwNle-dD",
    "outputId": "f8325140-23d9-46c7-ff38-9e1a4ddb1175",
    "papermill": {
     "duration": 0.020582,
     "end_time": "2022-11-27T11:18:30.071419",
     "exception": false,
     "start_time": "2022-11-27T11:18:30.050837",
     "status": "completed"
    },
    "tags": []
   },
   "outputs": [
    {
     "name": "stdout",
     "output_type": "stream",
     "text": [
      "1111111b\n",
      "1bbbb\n",
      "1b1b1b\n",
      "1a\n",
      "1bbbbb11b\n"
     ]
    }
   ],
   "source": [
    "teste=['1111111b','1bbbb','1b1b1b','teste 1a','bb1bbbbb11b','b1b1b1b1']\n",
    "regex=r'\\d\\w*[A-Za-z]\\b'\n",
    "testar_exercicio(regex,teste)"
   ]
  },
  {
   "cell_type": "markdown",
   "id": "83ef84e9",
   "metadata": {
    "id": "F-2gWmDLI40R",
    "papermill": {
     "duration": 0.009544,
     "end_time": "2022-11-27T11:18:30.138293",
     "exception": false,
     "start_time": "2022-11-27T11:18:30.128749",
     "status": "completed"
    },
    "tags": []
   },
   "source": [
    "### **Q6)** Detectar duas palavras unidas pelas preposições 'de', 'do', 'da', 'dos' ou 'das'. *As palavras somente podem conter letras e elas são separadas por um ou mais espaços.*\n",
    "* teste=['Ouviram do Ipiranga','Às margens plácidas\n",
    "De um povo heroico', \n",
    "'Brilhou no céu da pátria nesse instante', \n",
    "'um raio vívido de amor e de esperança, à terra desce']\n",
    "* saída= 'Ouviram do Ipiranga', 'céu da pátria', 'vívido de amor', 'e de esperança'"
   ]
  },
  {
   "cell_type": "code",
   "execution_count": 9,
   "id": "e8c725b3",
   "metadata": {
    "execution": {
     "iopub.execute_input": "2022-11-27T11:18:30.158234Z",
     "iopub.status.busy": "2022-11-27T11:18:30.157752Z",
     "iopub.status.idle": "2022-11-27T11:18:30.165839Z",
     "shell.execute_reply": "2022-11-27T11:18:30.164161Z"
    },
    "id": "FCgrg1u_h6fh",
    "outputId": "c5dde932-1148-4bbe-f81a-4e741cc2cada",
    "papermill": {
     "duration": 0.021353,
     "end_time": "2022-11-27T11:18:30.168335",
     "exception": false,
     "start_time": "2022-11-27T11:18:30.146982",
     "status": "completed"
    },
    "tags": []
   },
   "outputs": [
    {
     "name": "stdout",
     "output_type": "stream",
     "text": [
      "['Ouviram do Ipiranga']\n",
      "['céu da pátria']\n",
      "['vívido de amor', 'e de esperança']\n"
     ]
    }
   ],
   "source": [
    "teste=['Ouviram do Ipiranga','Às margens plácidas De um povo heroico', 'Brilhou no céu da pátria nesse instante', \n",
    "'um raio vívido de amor e de esperança, à terra desce']\n",
    "regex=r'\\w*\\s(?:d[eoa]|d[os|as])\\s\\w*'\n",
    "\n",
    "for item in teste:\n",
    "  if (re.search(regex, item)):\n",
    "    print(re.findall(regex, item))"
   ]
  },
  {
   "cell_type": "markdown",
   "id": "fe5b26f1",
   "metadata": {
    "id": "rT27VHl3I6nQ",
    "papermill": {
     "duration": 0.009036,
     "end_time": "2022-11-27T11:18:30.186753",
     "exception": false,
     "start_time": "2022-11-27T11:18:30.177717",
     "status": "completed"
    },
    "tags": []
   },
   "source": [
    "### **Q7)** Detectar uma palavra seguida de um espaço seguido de um sequência de um ou mais dígitos.\n",
    "\n",
    "* teste=['teste 1234', 'parágrafo 12345','letra 1','a b 1 c','cc 11 a', 'dois espaços não pode  2']\n",
    "* saída=['teste 1234', 'parágrafo 12345', 'letra 1', 'cc 11']"
   ]
  },
  {
   "cell_type": "code",
   "execution_count": 10,
   "id": "5184598c",
   "metadata": {
    "execution": {
     "iopub.execute_input": "2022-11-27T11:18:30.207258Z",
     "iopub.status.busy": "2022-11-27T11:18:30.206768Z",
     "iopub.status.idle": "2022-11-27T11:18:30.214514Z",
     "shell.execute_reply": "2022-11-27T11:18:30.212838Z"
    },
    "id": "jaAQdh1ugDr4",
    "outputId": "ce0258df-7950-4c4f-acae-045d4260af0d",
    "papermill": {
     "duration": 0.02221,
     "end_time": "2022-11-27T11:18:30.217797",
     "exception": false,
     "start_time": "2022-11-27T11:18:30.195587",
     "status": "completed"
    },
    "tags": []
   },
   "outputs": [
    {
     "name": "stdout",
     "output_type": "stream",
     "text": [
      "teste 1234\n",
      "parágrafo 12345\n",
      "letra 1\n",
      "cc 11\n"
     ]
    }
   ],
   "source": [
    "teste=['teste 1234', 'parágrafo 12345','letra 1','a  b  1 c','cc 11 a', 'dois espaços não pode  2']\n",
    "regex = r'\\w+\\s\\d+'\n",
    "testar_exercicio(regex, teste)"
   ]
  },
  {
   "cell_type": "markdown",
   "id": "379f9645",
   "metadata": {
    "id": "C_geio75I78P",
    "papermill": {
     "duration": 0.009277,
     "end_time": "2022-11-27T11:18:30.237504",
     "exception": false,
     "start_time": "2022-11-27T11:18:30.228227",
     "status": "completed"
    },
    "tags": []
   },
   "source": [
    "### **Q8)** Detectar palavras de no mínimo 3 letras e com TODAS as letras maiúsculas.\n",
    "\n",
    "* teste=['Hino Nacional Brasileiro', 'BRASIL', 'BRASil', 'Durante o “Dia do Fico”, D. Pedro declarou que permaneceria no Brasil.', \"Bandeira DO Brasil\",\n",
    "'Durante o “Dia do Fico”, DOM PEDRO declarou que permaneceria no Brasil.'\n",
    "* saída='BRASIL, DOM, PEDRO"
   ]
  },
  {
   "cell_type": "code",
   "execution_count": 11,
   "id": "3406a325",
   "metadata": {
    "execution": {
     "iopub.execute_input": "2022-11-27T11:18:30.258735Z",
     "iopub.status.busy": "2022-11-27T11:18:30.257813Z",
     "iopub.status.idle": "2022-11-27T11:18:30.265391Z",
     "shell.execute_reply": "2022-11-27T11:18:30.263698Z"
    },
    "id": "mzP4yxZLjM1s",
    "outputId": "1476b194-c5a5-4566-c8a4-e77c429db1ef",
    "papermill": {
     "duration": 0.021109,
     "end_time": "2022-11-27T11:18:30.268027",
     "exception": false,
     "start_time": "2022-11-27T11:18:30.246918",
     "status": "completed"
    },
    "tags": []
   },
   "outputs": [
    {
     "name": "stdout",
     "output_type": "stream",
     "text": [
      "['BRASIL']\n",
      "['DOM ', 'PEDRO ']\n"
     ]
    }
   ],
   "source": [
    "teste=['Hino Nacional Brasileiro', 'BRASIL','Durante o “Dia do Fico”, D. Pedro declarou que permaneceria no Brasil.', \"Bandeira DO Brasil\",\n",
    "'Durante o “Dia do Fico”, DOM PEDRO declarou que permaneceria no Brasil.']\n",
    "regex=r'([A-ZÁÃÀÉÍÓÊÕÚ]{3,}\\s?)'\n",
    "\n",
    "for item in teste:\n",
    "  if (re.search(regex, item)):\n",
    "    print(re.findall(regex, item))\n"
   ]
  },
  {
   "cell_type": "markdown",
   "id": "468a1512",
   "metadata": {
    "id": "MW6lugCjJKo0",
    "papermill": {
     "duration": 0.009443,
     "end_time": "2022-11-27T11:18:30.287484",
     "exception": false,
     "start_time": "2022-11-27T11:18:30.278041",
     "status": "completed"
    },
    "tags": []
   },
   "source": [
    "### **Q9)** Detectar duas palavras consecutivas, de no mínimo 2 letras cada, com TODAS as letras maiúsculas.\n",
    "* teste=['Durante o “Dia do Fico”, DOM PEDRO declarou que permaneceria no Brasil.', 'O Magazine Luiza(MGLU) é uma empresa de varejo', 'LUIZA TRAJANO é uma empresária brasileira.', 'RELATÓRIO DE TENDÊNCIAs']\n",
    "* saída= 'DOM PEDRO', 'LUIZA TRAJANO, 'RELATÓRIO DE'"
   ]
  },
  {
   "cell_type": "code",
   "execution_count": 12,
   "id": "5b30e0a1",
   "metadata": {
    "execution": {
     "iopub.execute_input": "2022-11-27T11:18:30.308603Z",
     "iopub.status.busy": "2022-11-27T11:18:30.308131Z",
     "iopub.status.idle": "2022-11-27T11:18:30.315080Z",
     "shell.execute_reply": "2022-11-27T11:18:30.313982Z"
    },
    "id": "kZ2SKwKWl4ac",
    "outputId": "e320505a-355e-4100-b6f0-234b8983993d",
    "papermill": {
     "duration": 0.02146,
     "end_time": "2022-11-27T11:18:30.318351",
     "exception": false,
     "start_time": "2022-11-27T11:18:30.296891",
     "status": "completed"
    },
    "tags": []
   },
   "outputs": [
    {
     "name": "stdout",
     "output_type": "stream",
     "text": [
      "['DOM PEDRO']\n",
      "['LUIZA TRAJANO']\n",
      "['RELATÓRIO DE']\n"
     ]
    }
   ],
   "source": [
    "teste=['Durante o “Dia do Fico”, DOM PEDRO declarou que permaneceria no Brasil.', \n",
    "       'O Magazine Luiza(MGLU) é uma empresa de varejo', 'LUIZA TRAJANO é uma empresária brasileira.', 'RELATÓRIO DE TENDÊNCIAs']\n",
    "regex=r'[A-ZÁÃÀÉÍÓÊÕÚ]{2,}\\s[A-ZÁÃÀÉÍÓÊÕÚ]{2,}'\n",
    "\n",
    "for item in teste:\n",
    "  if (re.search(regex, item)):\n",
    "    print(re.findall(regex, item))\n"
   ]
  },
  {
   "cell_type": "markdown",
   "id": "d674962e",
   "metadata": {
    "id": "bhMx3YbWJLcI",
    "papermill": {
     "duration": 0.00926,
     "end_time": "2022-11-27T11:18:30.337875",
     "exception": false,
     "start_time": "2022-11-27T11:18:30.328615",
     "status": "completed"
    },
    "tags": []
   },
   "source": [
    "### **Q10)** Detectar duas ou mais palavras consecutivas com todas as letras maiúsculas. Cada palavra pode possuir qualquer quantidade de letras..\n",
    "\n",
    "* teste=['Durante o “Dia do Fico”, DOM PEDRO declarou que permaneceria no Brasil.', 'O Magazine Luiza(MGLU) é uma empresa de varejo', 'LUIZA HELENA TRAJANO é uma empresária brasileira.', 'RELATÓRIO de TENDÊNCIAS', 'O RELATÓRIO DE DESEMPENHO foi publicado']\n",
    "* saída= 'DOM PEDRO', 'LUIZA HELENA TRAJANO', 'O RELATÓRIO DE DESEMPENHO'"
   ]
  },
  {
   "cell_type": "code",
   "execution_count": 13,
   "id": "3aaf6746",
   "metadata": {
    "execution": {
     "iopub.execute_input": "2022-11-27T11:18:30.359069Z",
     "iopub.status.busy": "2022-11-27T11:18:30.358660Z",
     "iopub.status.idle": "2022-11-27T11:18:30.365951Z",
     "shell.execute_reply": "2022-11-27T11:18:30.364483Z"
    },
    "id": "xlDrh3kQonVN",
    "outputId": "49d44865-cb31-4be6-f4df-0a4f53a6f979",
    "papermill": {
     "duration": 0.020963,
     "end_time": "2022-11-27T11:18:30.368573",
     "exception": false,
     "start_time": "2022-11-27T11:18:30.347610",
     "status": "completed"
    },
    "tags": []
   },
   "outputs": [
    {
     "name": "stdout",
     "output_type": "stream",
     "text": [
      "DOM PEDRO \n",
      "LUIZA HELENA TRAJANO \n",
      "O RELATÓRIO DE DESEMPENHO \n"
     ]
    }
   ],
   "source": [
    "teste=['Durante o “Dia do Fico”, DOM PEDRO declarou que permaneceria no Brasil.', \n",
    "       'O Magazine Luiza(MGLU) é uma empresa de varejo', 'LUIZA HELENA TRAJANO é uma empresária brasileira.', \n",
    "       'RELATÓRIO de TENDÊNCIAS', 'O RELATÓRIO DE DESEMPENHO foi publicado']\n",
    "regex=r'([A-ZÁÃÀÉÍÓÊÕÚ]+\\s){2,}'\n",
    "\n",
    "testar_exercicio(regex, teste)"
   ]
  },
  {
   "cell_type": "markdown",
   "id": "b5f71a6e",
   "metadata": {
    "id": "FQgW5zoCJMOk",
    "papermill": {
     "duration": 0.009204,
     "end_time": "2022-11-27T11:18:30.387152",
     "exception": false,
     "start_time": "2022-11-27T11:18:30.377948",
     "status": "completed"
    },
    "tags": []
   },
   "source": [
    "### **Q11)** Detectar um endereço [IP](https://en.wikipedia.org/wiki/IP_address). ex.: 127.0.0.1, 192.168.0.254. Um IP é formado por exatamente 4 números separados por pontos. Cada número possui no máximo 3 dígitos.\n",
    "* teste=['127.0.0.1','192.168.0.254','10.11.10.11','127.127.127.127','9999.0.0.1','127404041','a127.0.0.1', '127.a.a.1']\n",
    "* saída= '127.0.0.1','192.168.0.254','10.11.10.11','127.127.127.127'"
   ]
  },
  {
   "cell_type": "code",
   "execution_count": 14,
   "id": "49743dd3",
   "metadata": {
    "execution": {
     "iopub.execute_input": "2022-11-27T11:18:30.408223Z",
     "iopub.status.busy": "2022-11-27T11:18:30.407773Z",
     "iopub.status.idle": "2022-11-27T11:18:30.414320Z",
     "shell.execute_reply": "2022-11-27T11:18:30.413258Z"
    },
    "id": "oJgJIWKJn0wm",
    "outputId": "885fa144-d9d6-4f1d-ac9c-b5ace8dc7c86",
    "papermill": {
     "duration": 0.020864,
     "end_time": "2022-11-27T11:18:30.417113",
     "exception": false,
     "start_time": "2022-11-27T11:18:30.396249",
     "status": "completed"
    },
    "tags": []
   },
   "outputs": [
    {
     "name": "stdout",
     "output_type": "stream",
     "text": [
      "127.0.0.1\n",
      "192.168.0.254\n",
      "10.11.10.11\n",
      "127.127.127.127\n"
     ]
    }
   ],
   "source": [
    "teste=['127.0.0.1','192.168.0.254','10.11.10.11','127.127.127.127','9999.0.0.1','127404041','a127.0.0.1', '127.a.a.1']\n",
    "regex = r'^\\d{1,3}\\.\\d{1,3}\\.\\d{1,3}\\.\\d{1,3}'\n",
    "testar_exercicio(regex, teste)"
   ]
  },
  {
   "cell_type": "markdown",
   "id": "34d02b86",
   "metadata": {
    "id": "7LHcm1LIJMro",
    "papermill": {
     "duration": 0.009422,
     "end_time": "2022-11-27T11:18:30.436965",
     "exception": false,
     "start_time": "2022-11-27T11:18:30.427543",
     "status": "completed"
    },
    "tags": []
   },
   "source": [
    "### **Q12)** Detectar uma url de um site que inicie com o prefixo 'http://' e finalize ou com '.com' ou '.com.br' ou '.br'\n",
    "\n",
    "* teste=['http://www.obrigado.com', 'hp://www.obrigado.com', 'www.thankyou.com', 'http://www.brasil.br', 'http://www.tearto.art', 'http://www.olance.com.ar' ]\n",
    "* saída= 'http://www.obrigado.com' 'http://www.brasil.br' "
   ]
  },
  {
   "cell_type": "code",
   "execution_count": 15,
   "id": "0253edfc",
   "metadata": {
    "execution": {
     "iopub.execute_input": "2022-11-27T11:18:30.458459Z",
     "iopub.status.busy": "2022-11-27T11:18:30.458011Z",
     "iopub.status.idle": "2022-11-27T11:18:30.465184Z",
     "shell.execute_reply": "2022-11-27T11:18:30.463492Z"
    },
    "id": "8GfuacYZHWI-",
    "outputId": "3614b090-2ba5-4b90-edee-29f668ef8991",
    "papermill": {
     "duration": 0.020777,
     "end_time": "2022-11-27T11:18:30.467327",
     "exception": false,
     "start_time": "2022-11-27T11:18:30.446550",
     "status": "completed"
    },
    "tags": []
   },
   "outputs": [
    {
     "name": "stdout",
     "output_type": "stream",
     "text": [
      "http://www.obrigado.com\n",
      "http://www.brasil.br\n"
     ]
    }
   ],
   "source": [
    "teste = ['http://www.obrigado.com', 'hp://www.obrigado.com', 'www.thankyou.com', \n",
    "         'http://www.brasil.br', 'http://www.tearto.art', \n",
    "         'http://www.olance.com.ar' ]\n",
    "regex = r'http\\:\\/\\/.*\\.(com|br|com\\.br)$'\n",
    "testar_exercicio(regex, teste)"
   ]
  },
  {
   "cell_type": "markdown",
   "id": "1765ec5a",
   "metadata": {
    "id": "SkEYcCf4JNmw",
    "papermill": {
     "duration": 0.009842,
     "end_time": "2022-11-27T11:18:30.486768",
     "exception": false,
     "start_time": "2022-11-27T11:18:30.476926",
     "status": "completed"
    },
    "tags": []
   },
   "source": [
    "### **Q13)** Detectar números de CPF com separador de milhares e hífen.\n",
    "\n",
    "* teste=['000.000.000-00','111.111.111-11','0111.111.111-11','11101110111-11','111.111.111111','1110110111111', '..1.11011011-11']\n",
    "* saída= '000.000.000-00','111.111.111-11'"
   ]
  },
  {
   "cell_type": "code",
   "execution_count": 16,
   "id": "082144e6",
   "metadata": {
    "execution": {
     "iopub.execute_input": "2022-11-27T11:18:30.508749Z",
     "iopub.status.busy": "2022-11-27T11:18:30.508316Z",
     "iopub.status.idle": "2022-11-27T11:18:30.515551Z",
     "shell.execute_reply": "2022-11-27T11:18:30.514081Z"
    },
    "id": "oaVIlLdtolZy",
    "outputId": "cd151070-bab8-4ab8-96af-a6bff18c54fd",
    "papermill": {
     "duration": 0.021516,
     "end_time": "2022-11-27T11:18:30.517864",
     "exception": false,
     "start_time": "2022-11-27T11:18:30.496348",
     "status": "completed"
    },
    "tags": []
   },
   "outputs": [
    {
     "name": "stdout",
     "output_type": "stream",
     "text": [
      "000.000.000-00\n",
      "111.111.111-11\n"
     ]
    }
   ],
   "source": [
    "teste=['000.000.000-00','111.111.111-11','0111.111.111-11','11101110111-11',\n",
    "       '111.111.111111','1110110111111', '..1.11011011-11']\n",
    "regex = r'\\b\\d{3}\\.\\d{3}\\.\\d{3}-\\d{2}\\b'\n",
    "testar_exercicio(regex, teste)"
   ]
  },
  {
   "cell_type": "markdown",
   "id": "48d1c308",
   "metadata": {
    "id": "By__nCvLJOD6",
    "papermill": {
     "duration": 0.009509,
     "end_time": "2022-11-27T11:18:30.536852",
     "exception": false,
     "start_time": "2022-11-27T11:18:30.527343",
     "status": "completed"
    },
    "tags": []
   },
   "source": [
    "### **Q14)** Detectar números de CPF com separador de milhares opcional e hífen opcional.\n",
    "\n",
    "* teste=['000.000.000-00','111.111.111-11','0111.111.111-11','11101110111-11','111.111.111111','1110110111111', '..1.11011011-11', '123456789-12','123.456.78912', '12345678912']\n",
    "* saída= '000.000.000-00','111.111.111-11', '11101110111', '123456789-12','123.456.78912', '12345678912'"
   ]
  },
  {
   "cell_type": "code",
   "execution_count": 17,
   "id": "0c8c1391",
   "metadata": {
    "execution": {
     "iopub.execute_input": "2022-11-27T11:18:30.557843Z",
     "iopub.status.busy": "2022-11-27T11:18:30.557362Z",
     "iopub.status.idle": "2022-11-27T11:18:30.563876Z",
     "shell.execute_reply": "2022-11-27T11:18:30.563129Z"
    },
    "id": "ZceC7KHxpWlQ",
    "outputId": "eafc7dbe-e656-48c5-d6d7-c8b603e9c632",
    "papermill": {
     "duration": 0.020298,
     "end_time": "2022-11-27T11:18:30.566564",
     "exception": false,
     "start_time": "2022-11-27T11:18:30.546266",
     "status": "completed"
    },
    "tags": []
   },
   "outputs": [
    {
     "name": "stdout",
     "output_type": "stream",
     "text": [
      "000.000.000-00\n",
      "111.111.111-11\n",
      "11101110111\n",
      "123456789-12\n",
      "123.456.78912\n",
      "12345678912\n"
     ]
    }
   ],
   "source": [
    "teste=['000.000.000-00','111.111.111-11','0111.111.111-11','11101110111-11',\n",
    "       '111.111.111111','1110110111111', '..1.11011011-11', '123456789-12',\n",
    "       '123.456.78912', '12345678912']\n",
    "regex = r'\\b\\d{3}\\.?\\d{3}\\.?\\d{3}-?\\d{2}\\b'\n",
    "testar_exercicio(regex, teste)"
   ]
  },
  {
   "cell_type": "markdown",
   "id": "72fd2d4f",
   "metadata": {
    "id": "_mURUbwdJO6g",
    "papermill": {
     "duration": 0.009528,
     "end_time": "2022-11-27T11:18:30.586822",
     "exception": false,
     "start_time": "2022-11-27T11:18:30.577294",
     "status": "completed"
    },
    "tags": []
   },
   "source": [
    "### **Q15)** Detectar CNPJ com separador de milhares, barra e hífen.\n",
    "* teste=['00.000.000/0001-00','xx.000.000/0001-xx','0011001000/0001-00','00.000.00010001-00','00.000.000/0001100','00000.000/0001-00','00000000/0001-00','000000000001-00']\n",
    "* saída= '00.000.000/0001-00'"
   ]
  },
  {
   "cell_type": "code",
   "execution_count": 18,
   "id": "db9d5066",
   "metadata": {
    "execution": {
     "iopub.execute_input": "2022-11-27T11:18:30.608040Z",
     "iopub.status.busy": "2022-11-27T11:18:30.607566Z",
     "iopub.status.idle": "2022-11-27T11:18:30.615243Z",
     "shell.execute_reply": "2022-11-27T11:18:30.613521Z"
    },
    "id": "dyGsJlLap4T4",
    "outputId": "5551f5d9-4ddb-466b-83cb-07cf1dcc6e75",
    "papermill": {
     "duration": 0.021529,
     "end_time": "2022-11-27T11:18:30.617703",
     "exception": false,
     "start_time": "2022-11-27T11:18:30.596174",
     "status": "completed"
    },
    "tags": []
   },
   "outputs": [
    {
     "name": "stdout",
     "output_type": "stream",
     "text": [
      "00.000.000/0001-00\n"
     ]
    }
   ],
   "source": [
    "teste=['00.000.000/0001-00','xx.000.000/0001-xx','0011001000/0001-00',\n",
    "       '00.000.00010001-00','00.000.000/0001100','00000.000/0001-00',\n",
    "       '00000000/0001-00','000000000001-00']\n",
    "regex = r'\\b\\d{2}\\.\\d{3}\\.\\d{3}\\/\\d{4}-\\d{2}\\b'\n",
    "testar_exercicio(regex, teste)"
   ]
  },
  {
   "cell_type": "markdown",
   "id": "7b514651",
   "metadata": {
    "id": "IDQiJmUnJPqz",
    "papermill": {
     "duration": 0.010226,
     "end_time": "2022-11-27T11:18:30.638278",
     "exception": false,
     "start_time": "2022-11-27T11:18:30.628052",
     "status": "completed"
    },
    "tags": []
   },
   "source": [
    "### **Q16)** Detectar a sequencia de 7 caracteres que possua o formato sete letras maiúsculas, espaço, e 4 algarismos, sendo que a primeira letra só pode ser J, K ou L.\n",
    "\n",
    "* teste=['JPA 2345', 'JJJ3767', 'JJJ 1234', 'ABJ 0000', 'jkl 1234', 'LAp 1234']\n",
    "* saída= 'JPA 2345', 'JJJ 1234'"
   ]
  },
  {
   "cell_type": "code",
   "execution_count": 19,
   "id": "45128975",
   "metadata": {
    "execution": {
     "iopub.execute_input": "2022-11-27T11:18:30.660599Z",
     "iopub.status.busy": "2022-11-27T11:18:30.660193Z",
     "iopub.status.idle": "2022-11-27T11:18:30.666835Z",
     "shell.execute_reply": "2022-11-27T11:18:30.665340Z"
    },
    "id": "bWu9vlz5rZqY",
    "outputId": "b638b4b6-e7ef-46ae-9147-8b933cc864c8",
    "papermill": {
     "duration": 0.021264,
     "end_time": "2022-11-27T11:18:30.669456",
     "exception": false,
     "start_time": "2022-11-27T11:18:30.648192",
     "status": "completed"
    },
    "tags": []
   },
   "outputs": [
    {
     "name": "stdout",
     "output_type": "stream",
     "text": [
      "JPA 2345\n",
      "JJJ 1234\n"
     ]
    }
   ],
   "source": [
    "teste=['JPA 2345', 'JJJ3767', 'JJJ 1234', 'ABJ 0000', 'jkl 1234', 'LAp 1234']\n",
    "regex=r'(J|K|L)[A-Z]{2}\\s\\d{4}'\n",
    "testar_exercicio(regex,teste)"
   ]
  },
  {
   "cell_type": "markdown",
   "id": "11740f97",
   "metadata": {
    "id": "jyt0bg8GJRYi",
    "papermill": {
     "duration": 0.009781,
     "end_time": "2022-11-27T11:18:30.688989",
     "exception": false,
     "start_time": "2022-11-27T11:18:30.679208",
     "status": "completed"
    },
    "tags": []
   },
   "source": [
    "### **Q17)** Detectar números de telefone no formato (xx)xxxx-xxxx.\n",
    "\n",
    "* teste=['(61)3316-0000','3316-0000','x61x3316x0000','(61)3316x0000','((61)3316-00006','77(61)3316x000077','(77)(61)3316-00007']\n",
    "* saída= '(61)3316-0000'"
   ]
  },
  {
   "cell_type": "code",
   "execution_count": 20,
   "id": "dfc1affc",
   "metadata": {
    "execution": {
     "iopub.execute_input": "2022-11-27T11:18:30.711196Z",
     "iopub.status.busy": "2022-11-27T11:18:30.709843Z",
     "iopub.status.idle": "2022-11-27T11:18:30.717657Z",
     "shell.execute_reply": "2022-11-27T11:18:30.715983Z"
    },
    "id": "5iVypYb1rY10",
    "outputId": "a7ffb1d0-6483-4b6d-e3ee-f925e27c296e",
    "papermill": {
     "duration": 0.022166,
     "end_time": "2022-11-27T11:18:30.720696",
     "exception": false,
     "start_time": "2022-11-27T11:18:30.698530",
     "status": "completed"
    },
    "tags": []
   },
   "outputs": [
    {
     "name": "stdout",
     "output_type": "stream",
     "text": [
      "(61)3316-0000\n"
     ]
    }
   ],
   "source": [
    "teste=['(61)3316-0000','3316-0000','x61x3316x0000','(61)3316x0000','((61)3316-00006','77(61)3316x000077','(77)(61)3316-00007']\n",
    "regex=r'^\\(\\d{2}\\)\\d{4}-\\d{4}$'\n",
    "testar_exercicio(regex,teste)"
   ]
  },
  {
   "cell_type": "markdown",
   "id": "d498f432",
   "metadata": {
    "id": "LvfKH3J3JSXi",
    "papermill": {
     "duration": 0.010439,
     "end_time": "2022-11-27T11:18:30.741306",
     "exception": false,
     "start_time": "2022-11-27T11:18:30.730867",
     "status": "completed"
    },
    "tags": []
   },
   "source": [
    "### **Q18)** Detectar um número de telefone no formato (xx)xxxx-xxxx ou xxxx-xxxx (sem DDD).\n",
    "\n",
    "* teste=['(61)3316-0000','3316-0000','x61x3316x0000','(61)3316x0000','((61)3316-00006','77(61)3316x000077','(77)(61)3316-00007']\n",
    "* saída= '(61)3316-0000','3316-0000'"
   ]
  },
  {
   "cell_type": "code",
   "execution_count": 21,
   "id": "f755eef7",
   "metadata": {
    "execution": {
     "iopub.execute_input": "2022-11-27T11:18:30.763965Z",
     "iopub.status.busy": "2022-11-27T11:18:30.763544Z",
     "iopub.status.idle": "2022-11-27T11:18:30.770940Z",
     "shell.execute_reply": "2022-11-27T11:18:30.768988Z"
    },
    "id": "4e9dHwjSrrg2",
    "outputId": "8f6377b2-c260-4403-d4f3-5a16fa80e489",
    "papermill": {
     "duration": 0.022145,
     "end_time": "2022-11-27T11:18:30.773513",
     "exception": false,
     "start_time": "2022-11-27T11:18:30.751368",
     "status": "completed"
    },
    "tags": []
   },
   "outputs": [
    {
     "name": "stdout",
     "output_type": "stream",
     "text": [
      "(61)3316-0000\n",
      "3316-0000\n"
     ]
    }
   ],
   "source": [
    "teste = ['(61)3316-0000','3316-0000','x61x3316x0000','(61)3316x0000',\n",
    "       '((61)3316-00006','77(61)3316x000077','(77)(61)3316-00007']\n",
    "regex = r'^(\\(\\d{2}\\))?\\d{4}-\\d{4}$'\n",
    "\n",
    "testar_exercicio(regex, teste)"
   ]
  },
  {
   "cell_type": "markdown",
   "id": "a611d98e",
   "metadata": {
    "id": "bXTUy9HqJTLJ",
    "papermill": {
     "duration": 0.0099,
     "end_time": "2022-11-27T11:18:30.793545",
     "exception": false,
     "start_time": "2022-11-27T11:18:30.783645",
     "status": "completed"
    },
    "tags": []
   },
   "source": [
    "### **Q19)**  Detectar números (0-9) com a quantidade entre 1 e 3 algarismos em um trecho de texto.\n",
    "\n",
    "* teste1='Exercicios 1, 12, 13 e 345 são importantes, mas não o 1002.'\n",
    "* saída= '1', '12', '13', '345'"
   ]
  },
  {
   "cell_type": "code",
   "execution_count": 22,
   "id": "07366e22",
   "metadata": {
    "execution": {
     "iopub.execute_input": "2022-11-27T11:18:30.815981Z",
     "iopub.status.busy": "2022-11-27T11:18:30.815559Z",
     "iopub.status.idle": "2022-11-27T11:18:30.830584Z",
     "shell.execute_reply": "2022-11-27T11:18:30.829024Z"
    },
    "id": "EghLh1O1rqk3",
    "outputId": "00a7dd25-c735-4565-88bc-10c513e2f19e",
    "papermill": {
     "duration": 0.029234,
     "end_time": "2022-11-27T11:18:30.832785",
     "exception": false,
     "start_time": "2022-11-27T11:18:30.803551",
     "status": "completed"
    },
    "tags": []
   },
   "outputs": [
    {
     "data": {
      "text/plain": [
       "['1', '12', '13', '345']"
      ]
     },
     "execution_count": 22,
     "metadata": {},
     "output_type": "execute_result"
    }
   ],
   "source": [
    "regex=r'(\\b\\d{1,3}\\b)'\n",
    "teste = 'Exercicios 1, 12, 13 e 345 são importantes, mas não o 1002.'\n",
    "re.findall(regex, teste)"
   ]
  },
  {
   "cell_type": "markdown",
   "id": "0af2ef06",
   "metadata": {
    "id": "__Np4QjiJp_c",
    "papermill": {
     "duration": 0.010112,
     "end_time": "2022-11-27T11:18:30.853219",
     "exception": false,
     "start_time": "2022-11-27T11:18:30.843107",
     "status": "completed"
    },
    "tags": []
   },
   "source": [
    "### **Q20)** Criar uma função que receba uma data no formato 'yyyy-mm-dd' e retorne no formato 'dd-mm-yyyy'. Caso a entrada não esteja no formato, lançar exceção.\n",
    "\n",
    "* teste='2022-08-18', '2022-Ago-18'\n",
    "* saída= '18-08-2022', 'Formato inválido'"
   ]
  },
  {
   "cell_type": "code",
   "execution_count": 23,
   "id": "9a4e5830",
   "metadata": {
    "execution": {
     "iopub.execute_input": "2022-11-27T11:18:30.875859Z",
     "iopub.status.busy": "2022-11-27T11:18:30.875424Z",
     "iopub.status.idle": "2022-11-27T11:18:30.882326Z",
     "shell.execute_reply": "2022-11-27T11:18:30.880937Z"
    },
    "id": "MQXHKWD1iqQP",
    "papermill": {
     "duration": 0.02114,
     "end_time": "2022-11-27T11:18:30.884442",
     "exception": false,
     "start_time": "2022-11-27T11:18:30.863302",
     "status": "completed"
    },
    "tags": []
   },
   "outputs": [],
   "source": [
    "def formatar_ano(data):\n",
    "  regex=r'\\b(\\d{4})-(\\d{2})-(\\d{2})\\b'\n",
    "  match = re.findall(regex, data)\n",
    "  if (len(match)==0):\n",
    "    raise Exception(\"Formato Inválido\")\n",
    "  result = match[0][2]+'-'+match[0][1]+'-'+match[0][0]\n",
    "  return result"
   ]
  },
  {
   "cell_type": "code",
   "execution_count": 24,
   "id": "bc3f446c",
   "metadata": {
    "execution": {
     "iopub.execute_input": "2022-11-27T11:18:30.907523Z",
     "iopub.status.busy": "2022-11-27T11:18:30.907174Z",
     "iopub.status.idle": "2022-11-27T11:18:30.914164Z",
     "shell.execute_reply": "2022-11-27T11:18:30.913216Z"
    },
    "id": "MitVgZyFEgYr",
    "outputId": "c4bc133b-7eb9-42bc-9b86-9bf82bd32dc7",
    "papermill": {
     "duration": 0.021052,
     "end_time": "2022-11-27T11:18:30.916279",
     "exception": false,
     "start_time": "2022-11-27T11:18:30.895227",
     "status": "completed"
    },
    "tags": []
   },
   "outputs": [
    {
     "data": {
      "text/plain": [
       "'18-08-2021'"
      ]
     },
     "execution_count": 24,
     "metadata": {},
     "output_type": "execute_result"
    }
   ],
   "source": [
    "formatar_ano('2021-08-18')"
   ]
  },
  {
   "cell_type": "markdown",
   "id": "29b7149f",
   "metadata": {
    "id": "biwYWxwy6wNT",
    "papermill": {
     "duration": 0.010675,
     "end_time": "2022-11-27T11:18:30.937702",
     "exception": false,
     "start_time": "2022-11-27T11:18:30.927027",
     "status": "completed"
    },
    "tags": []
   },
   "source": [
    "<div align=right>\n",
    " <sub><b>Processamento de Linguagem Natural</b></sub><br>\n",
    " <sub>Autor: Alexandre Vaz Roriz</sub><br>\n",
    " <a href=https://github.com/alexvaroz/portfolio>Portifólio</a>\n",
    "</div>"
   ]
  }
 ],
 "metadata": {
  "kernelspec": {
   "display_name": "Python 3",
   "language": "python",
   "name": "python3"
  },
  "language_info": {
   "codemirror_mode": {
    "name": "ipython",
    "version": 3
   },
   "file_extension": ".py",
   "mimetype": "text/x-python",
   "name": "python",
   "nbconvert_exporter": "python",
   "pygments_lexer": "ipython3",
   "version": "3.8.10"
  },
  "papermill": {
   "default_parameters": {},
   "duration": 4.001761,
   "end_time": "2022-11-27T11:18:31.168492",
   "environment_variables": {},
   "exception": null,
   "input_path": "__notebook__.ipynb",
   "output_path": "__notebook__.ipynb",
   "parameters": {},
   "start_time": "2022-11-27T11:18:27.166731",
   "version": "2.4.0"
  }
 },
 "nbformat": 4,
 "nbformat_minor": 5
}
